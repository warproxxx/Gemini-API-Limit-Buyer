{
 "cells": [
  {
   "cell_type": "code",
   "execution_count": 4,
   "id": "1ae9000c",
   "metadata": {},
   "outputs": [],
   "source": [
    "import ccxt\n",
    "import os"
   ]
  },
  {
   "cell_type": "code",
   "execution_count": 5,
   "id": "eb7f9806",
   "metadata": {},
   "outputs": [],
   "source": [
    "exchange = 'ftx'"
   ]
  },
  {
   "cell_type": "code",
   "execution_count": 6,
   "id": "25d28508",
   "metadata": {},
   "outputs": [],
   "source": [
    "apiKey = os.getenv('{}_ID'.format(exchange.upper()))\n",
    "apiSecret = os.getenv('{}_SECRET'.format(exchange.upper()))"
   ]
  },
  {
   "cell_type": "code",
   "execution_count": 16,
   "id": "e7e8ede3",
   "metadata": {},
   "outputs": [],
   "source": [
    "exchange = ccxt.gemini({\n",
    "                                'apiKey': apiKey,\n",
    "                                'secret': apiSecret,\n",
    "                                'enableRateLimit': True\n",
    "                            })"
   ]
  },
  {
   "cell_type": "code",
   "execution_count": 17,
   "id": "bc1a824c",
   "metadata": {},
   "outputs": [
    {
     "data": {
      "text/plain": [
       "0.01"
      ]
     },
     "execution_count": 17,
     "metadata": {},
     "output_type": "execute_result"
    }
   ],
   "source": [
    "exchange.load_markets()['BTC/USD']['precision']['price']"
   ]
  },
  {
   "cell_type": "code",
   "execution_count": null,
   "id": "4deca2d1",
   "metadata": {},
   "outputs": [],
   "source": []
  }
 ],
 "metadata": {
  "kernelspec": {
   "display_name": "Python 3.9.7 64-bit",
   "language": "python",
   "name": "python397jvsc74a57bd0b0fa6594d8f4cbf19f97940f81e996739fb7646882a419484c72d19e05852a7e"
  },
  "language_info": {
   "codemirror_mode": {
    "name": "ipython",
    "version": 3
   },
   "file_extension": ".py",
   "mimetype": "text/x-python",
   "name": "python",
   "nbconvert_exporter": "python",
   "pygments_lexer": "ipython3",
   "version": "3.9.7"
  }
 },
 "nbformat": 4,
 "nbformat_minor": 5
}
